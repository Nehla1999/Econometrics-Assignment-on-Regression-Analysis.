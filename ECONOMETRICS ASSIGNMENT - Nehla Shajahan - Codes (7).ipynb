{
 "cells": [
  {
   "cell_type": "markdown",
   "id": "b69b6579",
   "metadata": {},
   "source": [
    "# ECONOMETRICS - ASSIGNMENT ON REGRESSION ANALYSIS"
   ]
  },
  {
   "cell_type": "markdown",
   "id": "722b459f",
   "metadata": {},
   "source": [
    "# Nehla Shajahan | MOR: Sem 2 | South Campus | Roll no: 20/1613"
   ]
  },
  {
   "cell_type": "markdown",
   "id": "8594ce4f",
   "metadata": {},
   "source": [
    "## Importing the relevant libraries"
   ]
  },
  {
   "cell_type": "code",
   "execution_count": 1,
   "id": "509aa238",
   "metadata": {},
   "outputs": [],
   "source": [
    "import numpy as np\n",
    "import pandas as pd\n",
    "import statsmodels.api as sm\n",
    "from statsmodels.formula.api import ols\n",
    "import matplotlib.pyplot as plt\n",
    "from statsmodels.compat import lzip\n",
    "from sklearn.model_selection import train_test_split\n",
    "from sklearn.linear_model import LinearRegression\n",
    "from statsmodels.stats.outliers_influence import variance_inflation_factor\n",
    "import seaborn as sns\n",
    "sns.set()"
   ]
  },
  {
   "cell_type": "markdown",
   "id": "458d5efc",
   "metadata": {},
   "source": [
    "### Loading the raw data"
   ]
  },
  {
   "cell_type": "code",
   "execution_count": 2,
   "id": "3c30a00f",
   "metadata": {},
   "outputs": [
    {
     "data": {
      "text/html": [
       "<div>\n",
       "<style scoped>\n",
       "    .dataframe tbody tr th:only-of-type {\n",
       "        vertical-align: middle;\n",
       "    }\n",
       "\n",
       "    .dataframe tbody tr th {\n",
       "        vertical-align: top;\n",
       "    }\n",
       "\n",
       "    .dataframe thead th {\n",
       "        text-align: right;\n",
       "    }\n",
       "</style>\n",
       "<table border=\"1\" class=\"dataframe\">\n",
       "  <thead>\n",
       "    <tr style=\"text-align: right;\">\n",
       "      <th></th>\n",
       "      <th>Country</th>\n",
       "      <th>Infant mortality (per 1000 births)</th>\n",
       "      <th>Literacy (%)</th>\n",
       "      <th>Phones (per 1000)</th>\n",
       "      <th>Birthrate</th>\n",
       "      <th>Deathrate</th>\n",
       "      <th>GDP ($ per capita)</th>\n",
       "    </tr>\n",
       "  </thead>\n",
       "  <tbody>\n",
       "    <tr>\n",
       "      <th>0</th>\n",
       "      <td>Afghanistan</td>\n",
       "      <td>163.07</td>\n",
       "      <td>36.0</td>\n",
       "      <td>3.2</td>\n",
       "      <td>46.60</td>\n",
       "      <td>20.34</td>\n",
       "      <td>700</td>\n",
       "    </tr>\n",
       "    <tr>\n",
       "      <th>1</th>\n",
       "      <td>Albania</td>\n",
       "      <td>21.52</td>\n",
       "      <td>86.5</td>\n",
       "      <td>71.2</td>\n",
       "      <td>15.11</td>\n",
       "      <td>5.22</td>\n",
       "      <td>4500</td>\n",
       "    </tr>\n",
       "    <tr>\n",
       "      <th>2</th>\n",
       "      <td>Algeria</td>\n",
       "      <td>31.00</td>\n",
       "      <td>70.0</td>\n",
       "      <td>78.1</td>\n",
       "      <td>17.14</td>\n",
       "      <td>4.61</td>\n",
       "      <td>6000</td>\n",
       "    </tr>\n",
       "    <tr>\n",
       "      <th>3</th>\n",
       "      <td>Angola</td>\n",
       "      <td>191.19</td>\n",
       "      <td>42.0</td>\n",
       "      <td>7.8</td>\n",
       "      <td>45.11</td>\n",
       "      <td>24.20</td>\n",
       "      <td>1900</td>\n",
       "    </tr>\n",
       "    <tr>\n",
       "      <th>4</th>\n",
       "      <td>Anguilla</td>\n",
       "      <td>21.03</td>\n",
       "      <td>95.0</td>\n",
       "      <td>460.0</td>\n",
       "      <td>14.17</td>\n",
       "      <td>5.34</td>\n",
       "      <td>8600</td>\n",
       "    </tr>\n",
       "    <tr>\n",
       "      <th>5</th>\n",
       "      <td>Antigua &amp; Barbuda</td>\n",
       "      <td>19.46</td>\n",
       "      <td>89.0</td>\n",
       "      <td>549.9</td>\n",
       "      <td>16.93</td>\n",
       "      <td>5.37</td>\n",
       "      <td>11000</td>\n",
       "    </tr>\n",
       "    <tr>\n",
       "      <th>6</th>\n",
       "      <td>Argentina</td>\n",
       "      <td>15.18</td>\n",
       "      <td>97.1</td>\n",
       "      <td>220.4</td>\n",
       "      <td>16.73</td>\n",
       "      <td>7.55</td>\n",
       "      <td>11200</td>\n",
       "    </tr>\n",
       "    <tr>\n",
       "      <th>7</th>\n",
       "      <td>Armenia</td>\n",
       "      <td>23.28</td>\n",
       "      <td>98.6</td>\n",
       "      <td>195.7</td>\n",
       "      <td>12.07</td>\n",
       "      <td>8.23</td>\n",
       "      <td>3500</td>\n",
       "    </tr>\n",
       "    <tr>\n",
       "      <th>8</th>\n",
       "      <td>Aruba</td>\n",
       "      <td>5.89</td>\n",
       "      <td>97.0</td>\n",
       "      <td>516.1</td>\n",
       "      <td>11.03</td>\n",
       "      <td>6.68</td>\n",
       "      <td>28000</td>\n",
       "    </tr>\n",
       "    <tr>\n",
       "      <th>9</th>\n",
       "      <td>Australia</td>\n",
       "      <td>4.69</td>\n",
       "      <td>100.0</td>\n",
       "      <td>565.5</td>\n",
       "      <td>12.14</td>\n",
       "      <td>7.51</td>\n",
       "      <td>29000</td>\n",
       "    </tr>\n",
       "  </tbody>\n",
       "</table>\n",
       "</div>"
      ],
      "text/plain": [
       "              Country  Infant mortality (per 1000 births)  Literacy (%)  \\\n",
       "0        Afghanistan                               163.07          36.0   \n",
       "1            Albania                                21.52          86.5   \n",
       "2            Algeria                                31.00          70.0   \n",
       "3             Angola                               191.19          42.0   \n",
       "4           Anguilla                                21.03          95.0   \n",
       "5  Antigua & Barbuda                                19.46          89.0   \n",
       "6          Argentina                                15.18          97.1   \n",
       "7            Armenia                                23.28          98.6   \n",
       "8              Aruba                                 5.89          97.0   \n",
       "9          Australia                                 4.69         100.0   \n",
       "\n",
       "   Phones (per 1000)  Birthrate  Deathrate  GDP ($ per capita)  \n",
       "0                3.2      46.60      20.34                 700  \n",
       "1               71.2      15.11       5.22                4500  \n",
       "2               78.1      17.14       4.61                6000  \n",
       "3                7.8      45.11      24.20                1900  \n",
       "4              460.0      14.17       5.34                8600  \n",
       "5              549.9      16.93       5.37               11000  \n",
       "6              220.4      16.73       7.55               11200  \n",
       "7              195.7      12.07       8.23                3500  \n",
       "8              516.1      11.03       6.68               28000  \n",
       "9              565.5      12.14       7.51               29000  "
      ]
     },
     "execution_count": 2,
     "metadata": {},
     "output_type": "execute_result"
    }
   ],
   "source": [
    "data = pd.read_csv('countries of the world.csv')\n",
    "data.head(10) #displaying the first 10 rows of the given dataset"
   ]
  },
  {
   "cell_type": "markdown",
   "id": "79b0b22d",
   "metadata": {},
   "source": [
    "\n",
    "\n",
    "\n",
    "\n",
    "\n",
    "\n",
    "\n",
    "\n",
    "\n",
    "\n",
    "\n",
    "\n",
    "\n",
    "## Preprocessing"
   ]
  },
  {
   "cell_type": "markdown",
   "id": "b6ccd628",
   "metadata": {},
   "source": [
    "### Exploring the descriptive statistics of the variables"
   ]
  },
  {
   "cell_type": "code",
   "execution_count": 3,
   "id": "cdfce5eb",
   "metadata": {},
   "outputs": [
    {
     "data": {
      "text/html": [
       "<div>\n",
       "<style scoped>\n",
       "    .dataframe tbody tr th:only-of-type {\n",
       "        vertical-align: middle;\n",
       "    }\n",
       "\n",
       "    .dataframe tbody tr th {\n",
       "        vertical-align: top;\n",
       "    }\n",
       "\n",
       "    .dataframe thead th {\n",
       "        text-align: right;\n",
       "    }\n",
       "</style>\n",
       "<table border=\"1\" class=\"dataframe\">\n",
       "  <thead>\n",
       "    <tr style=\"text-align: right;\">\n",
       "      <th></th>\n",
       "      <th>Country</th>\n",
       "      <th>Infant mortality (per 1000 births)</th>\n",
       "      <th>Literacy (%)</th>\n",
       "      <th>Phones (per 1000)</th>\n",
       "      <th>Birthrate</th>\n",
       "      <th>Deathrate</th>\n",
       "      <th>GDP ($ per capita)</th>\n",
       "    </tr>\n",
       "  </thead>\n",
       "  <tbody>\n",
       "    <tr>\n",
       "      <th>count</th>\n",
       "      <td>194</td>\n",
       "      <td>194.000000</td>\n",
       "      <td>194.000000</td>\n",
       "      <td>194.000000</td>\n",
       "      <td>194.000000</td>\n",
       "      <td>194.000000</td>\n",
       "      <td>194.000000</td>\n",
       "    </tr>\n",
       "    <tr>\n",
       "      <th>unique</th>\n",
       "      <td>194</td>\n",
       "      <td>NaN</td>\n",
       "      <td>NaN</td>\n",
       "      <td>NaN</td>\n",
       "      <td>NaN</td>\n",
       "      <td>NaN</td>\n",
       "      <td>NaN</td>\n",
       "    </tr>\n",
       "    <tr>\n",
       "      <th>top</th>\n",
       "      <td>Australia</td>\n",
       "      <td>NaN</td>\n",
       "      <td>NaN</td>\n",
       "      <td>NaN</td>\n",
       "      <td>NaN</td>\n",
       "      <td>NaN</td>\n",
       "      <td>NaN</td>\n",
       "    </tr>\n",
       "    <tr>\n",
       "      <th>freq</th>\n",
       "      <td>1</td>\n",
       "      <td>NaN</td>\n",
       "      <td>NaN</td>\n",
       "      <td>NaN</td>\n",
       "      <td>NaN</td>\n",
       "      <td>NaN</td>\n",
       "      <td>NaN</td>\n",
       "    </tr>\n",
       "    <tr>\n",
       "      <th>mean</th>\n",
       "      <td>NaN</td>\n",
       "      <td>38.678351</td>\n",
       "      <td>82.164948</td>\n",
       "      <td>212.639691</td>\n",
       "      <td>22.703711</td>\n",
       "      <td>9.557732</td>\n",
       "      <td>9451.546392</td>\n",
       "    </tr>\n",
       "    <tr>\n",
       "      <th>std</th>\n",
       "      <td>NaN</td>\n",
       "      <td>36.622435</td>\n",
       "      <td>19.895869</td>\n",
       "      <td>209.254387</td>\n",
       "      <td>11.359592</td>\n",
       "      <td>5.194357</td>\n",
       "      <td>10142.514158</td>\n",
       "    </tr>\n",
       "    <tr>\n",
       "      <th>min</th>\n",
       "      <td>NaN</td>\n",
       "      <td>2.290000</td>\n",
       "      <td>17.600000</td>\n",
       "      <td>0.200000</td>\n",
       "      <td>7.290000</td>\n",
       "      <td>2.410000</td>\n",
       "      <td>500.000000</td>\n",
       "    </tr>\n",
       "    <tr>\n",
       "      <th>25%</th>\n",
       "      <td>NaN</td>\n",
       "      <td>8.987500</td>\n",
       "      <td>70.100000</td>\n",
       "      <td>28.250000</td>\n",
       "      <td>13.347500</td>\n",
       "      <td>5.880000</td>\n",
       "      <td>1825.000000</td>\n",
       "    </tr>\n",
       "    <tr>\n",
       "      <th>50%</th>\n",
       "      <td>NaN</td>\n",
       "      <td>24.245000</td>\n",
       "      <td>90.950000</td>\n",
       "      <td>140.350000</td>\n",
       "      <td>19.320000</td>\n",
       "      <td>8.215000</td>\n",
       "      <td>5400.000000</td>\n",
       "    </tr>\n",
       "    <tr>\n",
       "      <th>75%</th>\n",
       "      <td>NaN</td>\n",
       "      <td>62.575000</td>\n",
       "      <td>97.975000</td>\n",
       "      <td>339.600000</td>\n",
       "      <td>30.865000</td>\n",
       "      <td>11.715000</td>\n",
       "      <td>13700.000000</td>\n",
       "    </tr>\n",
       "    <tr>\n",
       "      <th>max</th>\n",
       "      <td>NaN</td>\n",
       "      <td>191.190000</td>\n",
       "      <td>100.000000</td>\n",
       "      <td>898.000000</td>\n",
       "      <td>50.730000</td>\n",
       "      <td>29.740000</td>\n",
       "      <td>55100.000000</td>\n",
       "    </tr>\n",
       "  </tbody>\n",
       "</table>\n",
       "</div>"
      ],
      "text/plain": [
       "           Country  Infant mortality (per 1000 births)  Literacy (%)  \\\n",
       "count          194                          194.000000    194.000000   \n",
       "unique         194                                 NaN           NaN   \n",
       "top     Australia                                  NaN           NaN   \n",
       "freq             1                                 NaN           NaN   \n",
       "mean           NaN                           38.678351     82.164948   \n",
       "std            NaN                           36.622435     19.895869   \n",
       "min            NaN                            2.290000     17.600000   \n",
       "25%            NaN                            8.987500     70.100000   \n",
       "50%            NaN                           24.245000     90.950000   \n",
       "75%            NaN                           62.575000     97.975000   \n",
       "max            NaN                          191.190000    100.000000   \n",
       "\n",
       "        Phones (per 1000)   Birthrate   Deathrate  GDP ($ per capita)  \n",
       "count          194.000000  194.000000  194.000000          194.000000  \n",
       "unique                NaN         NaN         NaN                 NaN  \n",
       "top                   NaN         NaN         NaN                 NaN  \n",
       "freq                  NaN         NaN         NaN                 NaN  \n",
       "mean           212.639691   22.703711    9.557732         9451.546392  \n",
       "std            209.254387   11.359592    5.194357        10142.514158  \n",
       "min              0.200000    7.290000    2.410000          500.000000  \n",
       "25%             28.250000   13.347500    5.880000         1825.000000  \n",
       "50%            140.350000   19.320000    8.215000         5400.000000  \n",
       "75%            339.600000   30.865000   11.715000        13700.000000  \n",
       "max            898.000000   50.730000   29.740000        55100.000000  "
      ]
     },
     "execution_count": 3,
     "metadata": {},
     "output_type": "execute_result"
    }
   ],
   "source": [
    "data.describe(include='all')"
   ]
  },
  {
   "cell_type": "markdown",
   "id": "80e9949c",
   "metadata": {},
   "source": [
    "### Determining the variables of interest by dropping the categorical 'Country' column"
   ]
  },
  {
   "cell_type": "code",
   "execution_count": 4,
   "id": "46ece308",
   "metadata": {},
   "outputs": [],
   "source": [
    "data=data.drop(['Country'],axis=1)"
   ]
  },
  {
   "cell_type": "markdown",
   "id": "3e6ebc05",
   "metadata": {},
   "source": [
    "### Dealing with missing values"
   ]
  },
  {
   "cell_type": "code",
   "execution_count": 5,
   "id": "0479633b",
   "metadata": {},
   "outputs": [
    {
     "data": {
      "text/plain": [
       "Infant mortality (per 1000 births)    0\n",
       "Literacy (%)                          0\n",
       "Phones (per 1000)                     0\n",
       "Birthrate                             0\n",
       "Deathrate                             0\n",
       "GDP ($ per capita)                    0\n",
       "dtype: int64"
      ]
     },
     "execution_count": 5,
     "metadata": {},
     "output_type": "execute_result"
    }
   ],
   "source": [
    "data.isnull().sum()"
   ]
  },
  {
   "cell_type": "markdown",
   "id": "942c9805",
   "metadata": {},
   "source": [
    "Hence, the dataset under consideration has no missing values."
   ]
  },
  {
   "cell_type": "markdown",
   "id": "e0fa7895",
   "metadata": {},
   "source": [
    "## Checking the OLS assumptions "
   ]
  },
  {
   "cell_type": "markdown",
   "id": "cf8fdfc2",
   "metadata": {},
   "source": [
    "### Linearity"
   ]
  },
  {
   "cell_type": "markdown",
   "id": "d2da06d7",
   "metadata": {},
   "source": [
    "<div class=\"alert alert-block alert-success\">\n",
    "Linearity means that the mean of the response variable is a linear combination of the parameters (regression coefficients) and the predictor variables or in other words, the relationship between x(independent features) and the mean of y(dependent feature) is linear. We check for this assumption using a scatter plot.\n",
    "</div>"
   ]
  },
  {
   "cell_type": "code",
   "execution_count": 6,
   "id": "8d185155",
   "metadata": {},
   "outputs": [
    {
     "data": {
      "image/png": "[encoded data removed]",
      "text/plain": [
       "<Figure size 1080x792 with 6 Axes>"
      ]
     },
     "metadata": {},
     "output_type": "display_data"
    }
   ],
   "source": [
    "#Plotting a scatter plot to check for linearity between the features\n",
    "f, (ax1, ax2, ax3) = plt.subplots(3, 2, sharey=True, figsize =(15,11))\n",
    "\n",
    "ax1[0].scatter(data['Phones (per 1000)'],data['GDP ($ per capita)'])\n",
    "ax1[0].set_title('Phones (per 1000) and GDP')\n",
    "ax1[1].scatter(data['Infant mortality (per 1000 births)'],data['GDP ($ per capita)'])\n",
    "ax1[1].set_title('Infant mortality and GDP')\n",
    "ax2[0].scatter(data['Literacy (%)'],data['GDP ($ per capita)'])\n",
    "ax2[0].set_title('Literacy and GDP')\n",
    "ax2[1].scatter(data['Birthrate'],data['GDP ($ per capita)'])\n",
    "ax2[1].set_title('Birthrate and GDP')\n",
    "ax3[0].scatter(data['Deathrate'],data['GDP ($ per capita)'])\n",
    "ax3[0].set_title('Deathrate and GDP')\n",
    "\n",
    "\n",
    "plt.show()"
   ]
  },
  {
   "cell_type": "markdown",
   "id": "f0bdfa8b",
   "metadata": {},
   "source": [
    "<div class=\"alert alert-block alert-warning\">\n",
    "Here, we can see that most of the features are not showing a linear relationship with our dependent variable, GDP. To overcome this problem, we use log transformation on 'GDP' and will plot the scatter plot again.\n",
    "   </div>"
   ]
  },
  {
   "cell_type": "markdown",
   "id": "64016a47",
   "metadata": {},
   "source": [
    "### Applying log transformation\n"
   ]
  },
  {
   "cell_type": "code",
   "execution_count": 7,
   "id": "8e83d076",
   "metadata": {},
   "outputs": [],
   "source": [
    "GDP = np.log(data['GDP ($ per capita)']).round(2)\n",
    "data['GDP ($ per capita)'] = GDP"
   ]
  },
  {
   "cell_type": "code",
   "execution_count": 8,
   "id": "1bd1e982",
   "metadata": {},
   "outputs": [
    {
     "data": {
      "image/png": "[encoded data removed]",
      "text/plain": [
       "<Figure size 1080x792 with 6 Axes>"
      ]
     },
     "metadata": {},
     "output_type": "display_data"
    }
   ],
   "source": [
    "f, (ax1, ax2, ax3) = plt.subplots(3, 2, sharey=True, figsize =(15,11))\n",
    "\n",
    "ax1[0].scatter(data['Phones (per 1000)'],data['GDP ($ per capita)'])\n",
    "ax1[0].set_title('Phones (per 1000) and GDP')\n",
    "ax1[1].scatter(data['Infant mortality (per 1000 births)'],data['GDP ($ per capita)'])\n",
    "ax1[1].set_title('Infant mortality and GDP')\n",
    "ax2[0].scatter(data['Literacy (%)'],data['GDP ($ per capita)'])\n",
    "ax2[0].set_title('Literacy and GDP')\n",
    "ax2[1].scatter(data['Birthrate'],data['GDP ($ per capita)'])\n",
    "ax2[1].set_title('Birthrate and GDP')\n",
    "ax3[0].scatter(data['Deathrate'],data['GDP ($ per capita)'])\n",
    "ax3[0].set_title('Deathrate and GDP')\n",
    "\n",
    "\n",
    "plt.show()"
   ]
  },
  {
   "cell_type": "markdown",
   "id": "3ce983f6",
   "metadata": {},
   "source": [
    "<div class=\"alert alert-block alert-success\">\n",
    "    <h5>\n",
    "   Now, evidently there is a linear relationship between all the dependent features and the independent feature, GDP.\n",
    "    </h5>\n",
    "        </div>\n",
    "    "
   ]
  },
  {
   "cell_type": "markdown",
   "id": "dd311455",
   "metadata": {},
   "source": [
    "## Multicollinearity"
   ]
  },
  {
   "cell_type": "markdown",
   "id": "d7c60f47",
   "metadata": {},
   "source": [
    "<div class=\"alert alert-block alert-success\">\n",
    "Multicollinearity is a condition in which the independent variables are highly correlated with each other. In regression analysis, we assume that there is no multicollinearity between the features. To check for this condition we use, the varianle inflation factor. If VIF > 10, there is multicollinearity.\n",
    " </div>   "
   ]
  },
  {
   "cell_type": "code",
   "execution_count": 9,
   "id": "5e25db3b",
   "metadata": {},
   "outputs": [
    {
     "data": {
      "text/plain": [
       "Index(['Infant mortality (per 1000 births)', 'Literacy (%)',\n",
       "       'Phones (per 1000)', 'Birthrate', 'Deathrate', 'GDP ($ per capita)'],\n",
       "      dtype='object')"
      ]
     },
     "execution_count": 9,
     "metadata": {},
     "output_type": "execute_result"
    }
   ],
   "source": [
    "data.columns #to display the columns in our dataset"
   ]
  },
  {
   "cell_type": "markdown",
   "id": "940ef135",
   "metadata": {},
   "source": [
    "### Checking for multicollinearity using variable inflation factor"
   ]
  },
  {
   "cell_type": "code",
   "execution_count": 10,
   "id": "2062c711",
   "metadata": {},
   "outputs": [],
   "source": [
    "variables = data[['Infant mortality (per 1000 births)', 'Literacy (%)',\n",
    "       'Phones (per 1000)', 'Birthrate', 'Deathrate' ]]\n",
    "vif = pd.DataFrame()\n",
    "vif[\"VIF\"] = [variance_inflation_factor(variables.values, i) for i in range(variables.shape[1])]\n",
    "vif[\"features\"] = variables.columns"
   ]
  },
  {
   "cell_type": "code",
   "execution_count": 11,
   "id": "c4fe203b",
   "metadata": {},
   "outputs": [
    {
     "data": {
      "text/html": [
       "<div>\n",
       "<style scoped>\n",
       "    .dataframe tbody tr th:only-of-type {\n",
       "        vertical-align: middle;\n",
       "    }\n",
       "\n",
       "    .dataframe tbody tr th {\n",
       "        vertical-align: top;\n",
       "    }\n",
       "\n",
       "    .dataframe thead th {\n",
       "        text-align: right;\n",
       "    }\n",
       "</style>\n",
       "<table border=\"1\" class=\"dataframe\">\n",
       "  <thead>\n",
       "    <tr style=\"text-align: right;\">\n",
       "      <th></th>\n",
       "      <th>VIF</th>\n",
       "      <th>features</th>\n",
       "    </tr>\n",
       "  </thead>\n",
       "  <tbody>\n",
       "    <tr>\n",
       "      <th>0</th>\n",
       "      <td>15.353567</td>\n",
       "      <td>Infant mortality (per 1000 births)</td>\n",
       "    </tr>\n",
       "    <tr>\n",
       "      <th>1</th>\n",
       "      <td>11.257480</td>\n",
       "      <td>Literacy (%)</td>\n",
       "    </tr>\n",
       "    <tr>\n",
       "      <th>2</th>\n",
       "      <td>4.290512</td>\n",
       "      <td>Phones (per 1000)</td>\n",
       "    </tr>\n",
       "    <tr>\n",
       "      <th>3</th>\n",
       "      <td>16.235823</td>\n",
       "      <td>Birthrate</td>\n",
       "    </tr>\n",
       "    <tr>\n",
       "      <th>4</th>\n",
       "      <td>9.377861</td>\n",
       "      <td>Deathrate</td>\n",
       "    </tr>\n",
       "  </tbody>\n",
       "</table>\n",
       "</div>"
      ],
      "text/plain": [
       "         VIF                            features\n",
       "0  15.353567  Infant mortality (per 1000 births)\n",
       "1  11.257480                        Literacy (%)\n",
       "2   4.290512                   Phones (per 1000)\n",
       "3  16.235823                           Birthrate\n",
       "4   9.377861                           Deathrate"
      ]
     },
     "execution_count": 11,
     "metadata": {},
     "output_type": "execute_result"
    }
   ],
   "source": [
    "vif"
   ]
  },
  {
   "cell_type": "markdown",
   "id": "9bc0948d",
   "metadata": {},
   "source": [
    "<div class=\"alert alert-block alert-warning\">\n",
    "This indicates the presence of multicollinearity amongst the features. To overcome this, we standardize the features. Standardization refers to the process of subtracting the mean and dividing by the standard deviation. Centering the variables and standardizing them will both reduce the multicollinearity. However, standardizing changes the interpretation of the coefficients. So, we will be centering the features in this case.\n",
    "    </div>"
   ]
  },
  {
   "cell_type": "markdown",
   "id": "0b9f2b78",
   "metadata": {},
   "source": [
    "### Scaling the data"
   ]
  },
  {
   "cell_type": "code",
   "execution_count": 12,
   "id": "7bf25d4b",
   "metadata": {},
   "outputs": [],
   "source": [
    "mean_data=data[['Infant mortality (per 1000 births)', 'Literacy (%)',\n",
    "       'Phones (per 1000)', 'Birthrate', 'Deathrate']].mean()  #calculated the mean\n",
    "\n",
    "data[['Infant mortality (per 1000 births)', 'Literacy (%)',#subtracting the mean from the required values to center the features\n",
    "       'Phones (per 1000)', 'Birthrate', 'Deathrate']]=data[['Infant mortality (per 1000 births)', 'Literacy (%)',\n",
    "       'Phones (per 1000)', 'Birthrate', 'Deathrate']]-mean_data                                                         "
   ]
  },
  {
   "cell_type": "markdown",
   "id": "daf0d449",
   "metadata": {},
   "source": [
    "### Checking for multicollinearity again"
   ]
  },
  {
   "cell_type": "code",
   "execution_count": 13,
   "id": "d1d53aaf",
   "metadata": {},
   "outputs": [
    {
     "data": {
      "text/html": [
       "<div>\n",
       "<style scoped>\n",
       "    .dataframe tbody tr th:only-of-type {\n",
       "        vertical-align: middle;\n",
       "    }\n",
       "\n",
       "    .dataframe tbody tr th {\n",
       "        vertical-align: top;\n",
       "    }\n",
       "\n",
       "    .dataframe thead th {\n",
       "        text-align: right;\n",
       "    }\n",
       "</style>\n",
       "<table border=\"1\" class=\"dataframe\">\n",
       "  <thead>\n",
       "    <tr style=\"text-align: right;\">\n",
       "      <th></th>\n",
       "      <th>VIF</th>\n",
       "      <th>features</th>\n",
       "    </tr>\n",
       "  </thead>\n",
       "  <tbody>\n",
       "    <tr>\n",
       "      <th>0</th>\n",
       "      <td>7.271468</td>\n",
       "      <td>Infant mortality (per 1000 births)</td>\n",
       "    </tr>\n",
       "    <tr>\n",
       "      <th>1</th>\n",
       "      <td>2.879712</td>\n",
       "      <td>Literacy (%)</td>\n",
       "    </tr>\n",
       "    <tr>\n",
       "      <th>2</th>\n",
       "      <td>2.346476</td>\n",
       "      <td>Phones (per 1000)</td>\n",
       "    </tr>\n",
       "    <tr>\n",
       "      <th>3</th>\n",
       "      <td>5.596529</td>\n",
       "      <td>Birthrate</td>\n",
       "    </tr>\n",
       "    <tr>\n",
       "      <th>4</th>\n",
       "      <td>2.144280</td>\n",
       "      <td>Deathrate</td>\n",
       "    </tr>\n",
       "  </tbody>\n",
       "</table>\n",
       "</div>"
      ],
      "text/plain": [
       "        VIF                            features\n",
       "0  7.271468  Infant mortality (per 1000 births)\n",
       "1  2.879712                        Literacy (%)\n",
       "2  2.346476                   Phones (per 1000)\n",
       "3  5.596529                           Birthrate\n",
       "4  2.144280                           Deathrate"
      ]
     },
     "execution_count": 13,
     "metadata": {},
     "output_type": "execute_result"
    }
   ],
   "source": [
    "variables = data[['Infant mortality (per 1000 births)', 'Literacy (%)',\n",
    "       'Phones (per 1000)', 'Birthrate', 'Deathrate' ]]\n",
    "vif = pd.DataFrame()\n",
    "vif[\"VIF\"] = [variance_inflation_factor(variables.values, i) for i in range(variables.shape[1])]\n",
    "vif[\"features\"] = variables.columns\n",
    "\n",
    "\n",
    "vif"
   ]
  },
  {
   "cell_type": "markdown",
   "id": "360159ee",
   "metadata": {},
   "source": [
    "<div class=\"alert alert-block alert-success\">\n",
    "    <h5>\n",
    "Since, the general rule of thumb is if a VIF is > 10, there is high multicollinearity. All our values in the above table are in the optimal range i.e. below 10. Hence, we have succesfully dealt with the multicollinearity present in our dataset.\n",
    "    </h5>\n",
    "     </div> "
   ]
  },
  {
   "cell_type": "markdown",
   "id": "6dd7e950",
   "metadata": {},
   "source": [
    "### Declaring the dependent and independent features."
   ]
  },
  {
   "cell_type": "code",
   "execution_count": 14,
   "id": "361d49aa",
   "metadata": {},
   "outputs": [],
   "source": [
    "x=data.drop(['GDP ($ per capita)'],axis=1) #dropping our target variable from the features\n",
    "y=data.iloc[:,-1] #assigning 'GDP' as y"
   ]
  },
  {
   "cell_type": "markdown",
   "id": "5b6a80bd",
   "metadata": {},
   "source": [
    "## Auto-correlation"
   ]
  },
  {
   "cell_type": "markdown",
   "id": "64e25a06",
   "metadata": {},
   "source": [
    "<div class=\"alert alert-block alert-success\">\n",
    "Autocorrelation occurs when the residuals(actual-predicted) are not independent from each other. To test for auto-correlation, we take the help of the Durbin-Watson test. A 'statsmodel' summary table will give us a comprehensive summary analysis and the required Durbin-Watson test value.\n",
    "     </div>"
   ]
  },
  {
   "cell_type": "markdown",
   "id": "cea11760",
   "metadata": {},
   "source": [
    "### Statsmodel summary table to find out Durbin-Watson test value"
   ]
  },
  {
   "cell_type": "code",
   "execution_count": 15,
   "id": "ebcbead1",
   "metadata": {},
   "outputs": [
    {
     "data": {
      "text/html": [
       "<table class=\"simpletable\">\n",
       "<caption>OLS Regression Results</caption>\n",
       "<tr>\n",
       "  <th>Dep. Variable:</th>            <td>y</td>        <th>  R-squared:         </th> <td>   0.835</td>\n",
       "</tr>\n",
       "<tr>\n",
       "  <th>Model:</th>                   <td>OLS</td>       <th>  Adj. R-squared:    </th> <td>   0.831</td>\n",
       "</tr>\n",
       "<tr>\n",
       "  <th>Method:</th>             <td>Least Squares</td>  <th>  F-statistic:       </th> <td>   190.9</td>\n",
       "</tr>\n",
       "<tr>\n",
       "  <th>Date:</th>             <td>Tue, 20 Jul 2021</td> <th>  Prob (F-statistic):</th> <td>1.14e-71</td>\n",
       "</tr>\n",
       "<tr>\n",
       "  <th>Time:</th>                 <td>23:11:03</td>     <th>  Log-Likelihood:    </th> <td> -133.38</td>\n",
       "</tr>\n",
       "<tr>\n",
       "  <th>No. Observations:</th>      <td>   194</td>      <th>  AIC:               </th> <td>   278.8</td>\n",
       "</tr>\n",
       "<tr>\n",
       "  <th>Df Residuals:</th>          <td>   188</td>      <th>  BIC:               </th> <td>   298.4</td>\n",
       "</tr>\n",
       "<tr>\n",
       "  <th>Df Model:</th>              <td>     5</td>      <th>                     </th>     <td> </td>   \n",
       "</tr>\n",
       "<tr>\n",
       "  <th>Covariance Type:</th>      <td>nonrobust</td>    <th>                     </th>     <td> </td>   \n",
       "</tr>\n",
       "</table>\n",
       "<table class=\"simpletable\">\n",
       "<tr>\n",
       "      <td></td>         <th>coef</th>     <th>std err</th>      <th>t</th>      <th>P>|t|</th>  <th>[0.025</th>    <th>0.975]</th>  \n",
       "</tr>\n",
       "<tr>\n",
       "  <th>Intercept</th> <td>    8.5342</td> <td>    0.035</td> <td>  243.164</td> <td> 0.000</td> <td>    8.465</td> <td>    8.603</td>\n",
       "</tr>\n",
       "<tr>\n",
       "  <th>x[0]</th>      <td>   -0.0124</td> <td>    0.003</td> <td>   -4.798</td> <td> 0.000</td> <td>   -0.018</td> <td>   -0.007</td>\n",
       "</tr>\n",
       "<tr>\n",
       "  <th>x[1]</th>      <td>   -0.0018</td> <td>    0.003</td> <td>   -0.607</td> <td> 0.544</td> <td>   -0.008</td> <td>    0.004</td>\n",
       "</tr>\n",
       "<tr>\n",
       "  <th>x[2]</th>      <td>    0.0027</td> <td>    0.000</td> <td>   10.369</td> <td> 0.000</td> <td>    0.002</td> <td>    0.003</td>\n",
       "</tr>\n",
       "<tr>\n",
       "  <th>x[3]</th>      <td>   -0.0230</td> <td>    0.007</td> <td>   -3.141</td> <td> 0.002</td> <td>   -0.037</td> <td>   -0.009</td>\n",
       "</tr>\n",
       "<tr>\n",
       "  <th>x[4]</th>      <td>    0.0217</td> <td>    0.010</td> <td>    2.192</td> <td> 0.030</td> <td>    0.002</td> <td>    0.041</td>\n",
       "</tr>\n",
       "</table>\n",
       "<table class=\"simpletable\">\n",
       "<tr>\n",
       "  <th>Omnibus:</th>       <td> 4.040</td> <th>  Durbin-Watson:     </th> <td>   1.883</td>\n",
       "</tr>\n",
       "<tr>\n",
       "  <th>Prob(Omnibus):</th> <td> 0.133</td> <th>  Jarque-Bera (JB):  </th> <td>   3.787</td>\n",
       "</tr>\n",
       "<tr>\n",
       "  <th>Skew:</th>          <td> 0.243</td> <th>  Prob(JB):          </th> <td>   0.151</td>\n",
       "</tr>\n",
       "<tr>\n",
       "  <th>Kurtosis:</th>      <td> 3.481</td> <th>  Cond. No.          </th> <td>    211.</td>\n",
       "</tr>\n",
       "</table><br/><br/>Notes:<br/>[1] Standard Errors assume that the covariance matrix of the errors is correctly specified."
      ],
      "text/plain": [
       "<class 'statsmodels.iolib.summary.Summary'>\n",
       "\"\"\"\n",
       "                            OLS Regression Results                            \n",
       "==============================================================================\n",
       "Dep. Variable:                      y   R-squared:                       0.835\n",
       "Model:                            OLS   Adj. R-squared:                  0.831\n",
       "Method:                 Least Squares   F-statistic:                     190.9\n",
       "Date:                Tue, 20 Jul 2021   Prob (F-statistic):           1.14e-71\n",
       "Time:                        23:11:03   Log-Likelihood:                -133.38\n",
       "No. Observations:                 194   AIC:                             278.8\n",
       "Df Residuals:                     188   BIC:                             298.4\n",
       "Df Model:                           5                                         \n",
       "Covariance Type:            nonrobust                                         \n",
       "==============================================================================\n",
       "                 coef    std err          t      P>|t|      [0.025      0.975]\n",
       "------------------------------------------------------------------------------\n",
       "Intercept      8.5342      0.035    243.164      0.000       8.465       8.603\n",
       "x[0]          -0.0124      0.003     -4.798      0.000      -0.018      -0.007\n",
       "x[1]          -0.0018      0.003     -0.607      0.544      -0.008       0.004\n",
       "x[2]           0.0027      0.000     10.369      0.000       0.002       0.003\n",
       "x[3]          -0.0230      0.007     -3.141      0.002      -0.037      -0.009\n",
       "x[4]           0.0217      0.010      2.192      0.030       0.002       0.041\n",
       "==============================================================================\n",
       "Omnibus:                        4.040   Durbin-Watson:                   1.883\n",
       "Prob(Omnibus):                  0.133   Jarque-Bera (JB):                3.787\n",
       "Skew:                           0.243   Prob(JB):                        0.151\n",
       "Kurtosis:                       3.481   Cond. No.                         211.\n",
       "==============================================================================\n",
       "\n",
       "Notes:\n",
       "[1] Standard Errors assume that the covariance matrix of the errors is correctly specified.\n",
       "\"\"\""
      ]
     },
     "execution_count": 15,
     "metadata": {},
     "output_type": "execute_result"
    }
   ],
   "source": [
    "from statsmodels.formula.api import ols\n",
    "model=ols('y~x',data=data).fit()\n",
    "model.summary()"
   ]
  },
  {
   "cell_type": "markdown",
   "id": "82129c97",
   "metadata": {},
   "source": [
    "<div class=\"alert alert-block alert-success\">\n",
    "<h5>\n",
    "    The Durbin-Watson test value (1.883) is very close to 2 which indicates there is no autocorrelation present in the dataset.\n",
    "</h5>\n",
    "    </div>"
   ]
  },
  {
   "cell_type": "markdown",
   "id": "9f1fa24c",
   "metadata": {},
   "source": [
    "## Heteroscedasticity"
   ]
  },
  {
   "cell_type": "markdown",
   "id": "b366c89b",
   "metadata": {},
   "source": [
    "<div class=\"alert alert-block alert-success\">\n",
    "Heteroscedasticity or non-constant variance occurs if if the variability of the random disturbance is unequal across elements of the vector. Here, we will be using Goldfeld Quandt test to look for heteroscedasticity.\n",
    "<h5>\n",
    "* Null hypothesis,      H0 : Homoscedasticity or Absence of heteroscedasticity ; \n",
    "* Alternate hypothesis,  H1 : Presence of heteroscedasticity\n",
    "    </h5>\n",
    " </div>"
   ]
  },
  {
   "cell_type": "code",
   "execution_count": 16,
   "id": "ff840008",
   "metadata": {},
   "outputs": [
    {
     "data": {
      "text/plain": [
       "[('F statistic', 1.0414928918546058), ('p-value', 0.42333299359456456)]"
      ]
     },
     "execution_count": 16,
     "metadata": {},
     "output_type": "execute_result"
    }
   ],
   "source": [
    "#testing for Heteroscedasticity \n",
    "import statsmodels.stats.api as sms\n",
    "from statsmodels.compat import lzip\n",
    "name = ['F statistic', 'p-value']\n",
    "test = sms.het_goldfeldquandt(model.resid, model.model.exog)\n",
    "lzip(name, test)"
   ]
  },
  {
   "cell_type": "markdown",
   "id": "bd65e89c",
   "metadata": {},
   "source": [
    "<div class=\"alert alert-block alert-success\">\n",
    "For any hypothesis test, the decision rule is:\n",
    "\n",
    "* If p-value < level of significance (alpha); then null hypothesis is rejected.\n",
    "* If p-value > level of significance (alpha); then we fail to reject the null hypothesis.\n",
    "    </div>"
   ]
  },
  {
   "cell_type": "markdown",
   "id": "779d3a86",
   "metadata": {},
   "source": [
    "<div class=\"alert alert-block alert-success\">\n",
    "<h5>\n",
    "    Here, our p value > 0.05, level of significance. Therefore, we fail to reject the null hypothesis. Hence, we can conclude the absence of heteroscedasticity in our dataset.\n",
    "    </h5>\n",
    "    </div>"
   ]
  },
  {
   "cell_type": "markdown",
   "id": "4dbde2ae",
   "metadata": {},
   "source": [
    "# Linear regression model"
   ]
  },
  {
   "cell_type": "markdown",
   "id": "c70b61bf",
   "metadata": {},
   "source": [
    "## Train Test Split"
   ]
  },
  {
   "cell_type": "code",
   "execution_count": 17,
   "id": "8d771987",
   "metadata": {},
   "outputs": [],
   "source": [
    "\n",
    "from sklearn.model_selection import train_test_split\n",
    "\n",
    "x_train, x_test, y_train, y_test = train_test_split(x, y, test_size=0.2, random_state=365)"
   ]
  },
  {
   "cell_type": "markdown",
   "id": "c2b92117",
   "metadata": {},
   "source": [
    "### Creating the regression using sklearn"
   ]
  },
  {
   "cell_type": "code",
   "execution_count": 18,
   "id": "0835c44c",
   "metadata": {},
   "outputs": [
    {
     "data": {
      "text/plain": [
       "LinearRegression()"
      ]
     },
     "execution_count": 18,
     "metadata": {},
     "output_type": "execute_result"
    }
   ],
   "source": [
    "from sklearn.linear_model import LinearRegression\n",
    "reg = LinearRegression()\n",
    "reg.fit(x_train,y_train)"
   ]
  },
  {
   "cell_type": "code",
   "execution_count": 19,
   "id": "272d14fb",
   "metadata": {},
   "outputs": [],
   "source": [
    "y_pred = reg.predict(x_train)"
   ]
  },
  {
   "cell_type": "code",
   "execution_count": 20,
   "id": "35c794b7",
   "metadata": {},
   "outputs": [
    {
     "data": {
      "image/png": "[encoded data removed]",
      "text/plain": [
       "<Figure size 432x288 with 1 Axes>"
      ]
     },
     "metadata": {},
     "output_type": "display_data"
    }
   ],
   "source": [
    "#plotting a scatter plot between the actual and predicted values\n",
    "\n",
    "\n",
    "\n",
    "plt.scatter(y_train, y_pred)\n",
    "plt.xlabel('Targets/Actual',size=18)\n",
    "plt.ylabel('Predictions',size=18)\n",
    "\n",
    "plt.show()"
   ]
  },
  {
   "cell_type": "code",
   "execution_count": 21,
   "id": "41be9258",
   "metadata": {},
   "outputs": [
    {
     "name": "stderr",
     "output_type": "stream",
     "text": [
      "C:\\Users\\Nehla Shajahan\\Anaconda new\\lib\\site-packages\\seaborn\\distributions.py:2557: FutureWarning: `distplot` is a deprecated function and will be removed in a future version. Please adapt your code to use either `displot` (a figure-level function with similar flexibility) or `histplot` (an axes-level function for histograms).\n",
      "  warnings.warn(msg, FutureWarning)\n"
     ]
    },
    {
     "data": {
      "text/plain": [
       "Text(0.5, 1.0, 'Residuals PDF')"
      ]
     },
     "execution_count": 21,
     "metadata": {},
     "output_type": "execute_result"
    },
    {
     "data": {
      "image/png": "[encoded data removed]",
      "text/plain": [
       "<Figure size 432x288 with 1 Axes>"
      ]
     },
     "metadata": {},
     "output_type": "display_data"
    }
   ],
   "source": [
    "#To check the probability distribution of the residuals(actual-predicted)\n",
    "\n",
    "\n",
    "\n",
    "\n",
    "sns.distplot(y_train - y_pred)\n",
    "\n",
    "plt.title(\"Residuals PDF\", size=18)"
   ]
  },
  {
   "cell_type": "code",
   "execution_count": 22,
   "id": "f4e34a42",
   "metadata": {},
   "outputs": [
    {
     "name": "stdout",
     "output_type": "stream",
     "text": [
      "The R squared value  is 0.8279425716312756\n"
     ]
    }
   ],
   "source": [
    "#To find the R squared value\n",
    "print(\"The R squared value  is\",reg.score(x_train,y_train))"
   ]
  },
  {
   "cell_type": "markdown",
   "id": "165ce5be",
   "metadata": {},
   "source": [
    "### Finding the weights and bias"
   ]
  },
  {
   "cell_type": "code",
   "execution_count": 23,
   "id": "118ddb40",
   "metadata": {},
   "outputs": [
    {
     "name": "stdout",
     "output_type": "stream",
     "text": [
      "The intercept of our regression model is 8.526492444345447\n"
     ]
    }
   ],
   "source": [
    "print(\"The intercept of our regression model is\",reg.intercept_)"
   ]
  },
  {
   "cell_type": "code",
   "execution_count": 24,
   "id": "70b7cae4",
   "metadata": {},
   "outputs": [
    {
     "name": "stdout",
     "output_type": "stream",
     "text": [
      "The bias/coefficients of our regression model is [-0.0116893  -0.00206922  0.00276962 -0.02392357  0.02005003]\n"
     ]
    }
   ],
   "source": [
    "print(\"The bias/coefficients of our regression model is\",reg.coef_)"
   ]
  },
  {
   "cell_type": "markdown",
   "id": "b49cf2f7",
   "metadata": {},
   "source": [
    "## Testing the model"
   ]
  },
  {
   "cell_type": "code",
   "execution_count": 25,
   "id": "777802ea",
   "metadata": {},
   "outputs": [],
   "source": [
    "y_test_pred = reg.predict(x_test)"
   ]
  },
  {
   "cell_type": "markdown",
   "id": "1a1e63e4",
   "metadata": {},
   "source": [
    "### Finding the R squared value and MSE of the model"
   ]
  },
  {
   "cell_type": "code",
   "execution_count": 26,
   "id": "ef89537b",
   "metadata": {},
   "outputs": [],
   "source": [
    "from sklearn.metrics import r2_score \n",
    "from sklearn.metrics import mean_squared_error"
   ]
  },
  {
   "cell_type": "code",
   "execution_count": 27,
   "id": "85b546b1",
   "metadata": {},
   "outputs": [
    {
     "name": "stdout",
     "output_type": "stream",
     "text": [
      "The model R squared value is: 0.8090975457707839\n"
     ]
    }
   ],
   "source": [
    "print('The model R squared value is:',r2_score(y_true=y_test,y_pred=y_test_pred))"
   ]
  },
  {
   "cell_type": "code",
   "execution_count": 28,
   "id": "abbaf716",
   "metadata": {},
   "outputs": [
    {
     "name": "stdout",
     "output_type": "stream",
     "text": [
      "The mean squared error is: 0.22137500432548252\n"
     ]
    }
   ],
   "source": [
    "print('The mean squared error is:',mean_squared_error(y_test,y_test_pred))"
   ]
  },
  {
   "cell_type": "markdown",
   "id": "d96197be",
   "metadata": {},
   "source": [
    "## Actual vs Predicted values : analysis"
   ]
  },
  {
   "cell_type": "code",
   "execution_count": 29,
   "id": "ebb7119c",
   "metadata": {},
   "outputs": [
    {
     "data": {
      "image/png": "[encoded data removed]",
      "text/plain": [
       "<Figure size 432x288 with 1 Axes>"
      ]
     },
     "metadata": {},
     "output_type": "display_data"
    }
   ],
   "source": [
    "#Plotting a scatter plot to see the relation between actual and predicted values\n",
    "plt.scatter(y_test, y_test_pred)\n",
    "plt.xlabel('Targets',size=15)\n",
    "plt.ylabel('Predictions',size=15)\n",
    "plt.title('Actual vs predicted in the test set',size=18)\n",
    "plt.show()\n"
   ]
  },
  {
   "cell_type": "code",
   "execution_count": 36,
   "id": "5337b2d7",
   "metadata": {},
   "outputs": [],
   "source": [
    "#creating a new dataframe with the actual target values and the model predicted values\n",
    "df_pf = pd.DataFrame(np.exp(y_test_pred), columns=['Prediction'])\n",
    "df_pf['Target'] = np.exp(y_test)"
   ]
  },
  {
   "cell_type": "code",
   "execution_count": 37,
   "id": "d4461bc2",
   "metadata": {},
   "outputs": [
    {
     "data": {
      "text/plain": [
       "0   9.42\n",
       "1   9.85\n",
       "2   9.57\n",
       "3   9.77\n",
       "4   7.74\n",
       "Name: GDP ($ per capita), dtype: float64"
      ]
     },
     "execution_count": 37,
     "metadata": {},
     "output_type": "execute_result"
    }
   ],
   "source": [
    "#some processing to get a clean dataframe\n",
    "y_test = y_test.reset_index(drop=True)\n",
    "y_test.head()"
   ]
  },
  {
   "cell_type": "code",
   "execution_count": 38,
   "id": "7fcaa508",
   "metadata": {},
   "outputs": [
    {
     "data": {
      "text/html": [
       "<div>\n",
       "<style scoped>\n",
       "    .dataframe tbody tr th:only-of-type {\n",
       "        vertical-align: middle;\n",
       "    }\n",
       "\n",
       "    .dataframe tbody tr th {\n",
       "        vertical-align: top;\n",
       "    }\n",
       "\n",
       "    .dataframe thead th {\n",
       "        text-align: right;\n",
       "    }\n",
       "</style>\n",
       "<table border=\"1\" class=\"dataframe\">\n",
       "  <thead>\n",
       "    <tr style=\"text-align: right;\">\n",
       "      <th></th>\n",
       "      <th>Prediction</th>\n",
       "      <th>Target</th>\n",
       "    </tr>\n",
       "  </thead>\n",
       "  <tbody>\n",
       "    <tr>\n",
       "      <th>0</th>\n",
       "      <td>14224.05</td>\n",
       "      <td>12332.58</td>\n",
       "    </tr>\n",
       "    <tr>\n",
       "      <th>1</th>\n",
       "      <td>17492.53</td>\n",
       "      <td>18958.35</td>\n",
       "    </tr>\n",
       "    <tr>\n",
       "      <th>2</th>\n",
       "      <td>13626.01</td>\n",
       "      <td>14328.42</td>\n",
       "    </tr>\n",
       "    <tr>\n",
       "      <th>3</th>\n",
       "      <td>6928.94</td>\n",
       "      <td>17500.77</td>\n",
       "    </tr>\n",
       "    <tr>\n",
       "      <th>4</th>\n",
       "      <td>3115.31</td>\n",
       "      <td>2298.47</td>\n",
       "    </tr>\n",
       "    <tr>\n",
       "      <th>5</th>\n",
       "      <td>51495.20</td>\n",
       "      <td>35954.16</td>\n",
       "    </tr>\n",
       "    <tr>\n",
       "      <th>6</th>\n",
       "      <td>9575.14</td>\n",
       "      <td>9509.06</td>\n",
       "    </tr>\n",
       "  </tbody>\n",
       "</table>\n",
       "</div>"
      ],
      "text/plain": [
       "   Prediction   Target\n",
       "0    14224.05 12332.58\n",
       "1    17492.53 18958.35\n",
       "2    13626.01 14328.42\n",
       "3     6928.94 17500.77\n",
       "4     3115.31  2298.47\n",
       "5    51495.20 35954.16\n",
       "6     9575.14  9509.06"
      ]
     },
     "execution_count": 38,
     "metadata": {},
     "output_type": "execute_result"
    }
   ],
   "source": [
    "df_pf['Target'] = np.exp(y_test)\n",
    "df_pf.head(7)"
   ]
  },
  {
   "cell_type": "code",
   "execution_count": 39,
   "id": "a98f0865",
   "metadata": {},
   "outputs": [],
   "source": [
    "#Further analysis\n",
    "df_pf['Residual'] = df_pf['Target'] - df_pf['Prediction']\n",
    "df_pf['Difference%'] = np.absolute(df_pf['Residual']/df_pf['Target']*100)"
   ]
  },
  {
   "cell_type": "code",
   "execution_count": 40,
   "id": "63d0c168",
   "metadata": {},
   "outputs": [
    {
     "data": {
      "text/html": [
       "<div>\n",
       "<style scoped>\n",
       "    .dataframe tbody tr th:only-of-type {\n",
       "        vertical-align: middle;\n",
       "    }\n",
       "\n",
       "    .dataframe tbody tr th {\n",
       "        vertical-align: top;\n",
       "    }\n",
       "\n",
       "    .dataframe thead th {\n",
       "        text-align: right;\n",
       "    }\n",
       "</style>\n",
       "<table border=\"1\" class=\"dataframe\">\n",
       "  <thead>\n",
       "    <tr style=\"text-align: right;\">\n",
       "      <th></th>\n",
       "      <th>Prediction</th>\n",
       "      <th>Target</th>\n",
       "      <th>Residual</th>\n",
       "      <th>Difference%</th>\n",
       "    </tr>\n",
       "  </thead>\n",
       "  <tbody>\n",
       "    <tr>\n",
       "      <th>6</th>\n",
       "      <td>9575.14</td>\n",
       "      <td>9509.06</td>\n",
       "      <td>-66.08</td>\n",
       "      <td>0.69</td>\n",
       "    </tr>\n",
       "    <tr>\n",
       "      <th>7</th>\n",
       "      <td>2121.51</td>\n",
       "      <td>2208.35</td>\n",
       "      <td>86.83</td>\n",
       "      <td>3.93</td>\n",
       "    </tr>\n",
       "    <tr>\n",
       "      <th>29</th>\n",
       "      <td>29574.15</td>\n",
       "      <td>30946.03</td>\n",
       "      <td>1371.88</td>\n",
       "      <td>4.43</td>\n",
       "    </tr>\n",
       "    <tr>\n",
       "      <th>2</th>\n",
       "      <td>13626.01</td>\n",
       "      <td>14328.42</td>\n",
       "      <td>702.41</td>\n",
       "      <td>4.90</td>\n",
       "    </tr>\n",
       "    <tr>\n",
       "      <th>9</th>\n",
       "      <td>2099.16</td>\n",
       "      <td>2208.35</td>\n",
       "      <td>109.19</td>\n",
       "      <td>4.94</td>\n",
       "    </tr>\n",
       "    <tr>\n",
       "      <th>28</th>\n",
       "      <td>26293.92</td>\n",
       "      <td>27722.51</td>\n",
       "      <td>1428.59</td>\n",
       "      <td>5.15</td>\n",
       "    </tr>\n",
       "    <tr>\n",
       "      <th>1</th>\n",
       "      <td>17492.53</td>\n",
       "      <td>18958.35</td>\n",
       "      <td>1465.82</td>\n",
       "      <td>7.73</td>\n",
       "    </tr>\n",
       "    <tr>\n",
       "      <th>25</th>\n",
       "      <td>1168.44</td>\n",
       "      <td>1299.84</td>\n",
       "      <td>131.41</td>\n",
       "      <td>10.11</td>\n",
       "    </tr>\n",
       "    <tr>\n",
       "      <th>38</th>\n",
       "      <td>25562.90</td>\n",
       "      <td>28853.89</td>\n",
       "      <td>3290.99</td>\n",
       "      <td>11.41</td>\n",
       "    </tr>\n",
       "    <tr>\n",
       "      <th>24</th>\n",
       "      <td>19287.60</td>\n",
       "      <td>22026.47</td>\n",
       "      <td>2738.87</td>\n",
       "      <td>12.43</td>\n",
       "    </tr>\n",
       "    <tr>\n",
       "      <th>21</th>\n",
       "      <td>8769.56</td>\n",
       "      <td>7785.36</td>\n",
       "      <td>-984.20</td>\n",
       "      <td>12.64</td>\n",
       "    </tr>\n",
       "    <tr>\n",
       "      <th>0</th>\n",
       "      <td>14224.05</td>\n",
       "      <td>12332.58</td>\n",
       "      <td>-1891.47</td>\n",
       "      <td>15.34</td>\n",
       "    </tr>\n",
       "    <tr>\n",
       "      <th>14</th>\n",
       "      <td>3065.69</td>\n",
       "      <td>2591.52</td>\n",
       "      <td>-474.17</td>\n",
       "      <td>18.30</td>\n",
       "    </tr>\n",
       "    <tr>\n",
       "      <th>30</th>\n",
       "      <td>2441.41</td>\n",
       "      <td>3010.92</td>\n",
       "      <td>569.51</td>\n",
       "      <td>18.91</td>\n",
       "    </tr>\n",
       "    <tr>\n",
       "      <th>33</th>\n",
       "      <td>10142.56</td>\n",
       "      <td>12835.88</td>\n",
       "      <td>2693.33</td>\n",
       "      <td>20.98</td>\n",
       "    </tr>\n",
       "    <tr>\n",
       "      <th>20</th>\n",
       "      <td>21813.69</td>\n",
       "      <td>17676.65</td>\n",
       "      <td>-4137.03</td>\n",
       "      <td>23.40</td>\n",
       "    </tr>\n",
       "    <tr>\n",
       "      <th>37</th>\n",
       "      <td>16044.44</td>\n",
       "      <td>21590.31</td>\n",
       "      <td>5545.87</td>\n",
       "      <td>25.69</td>\n",
       "    </tr>\n",
       "    <tr>\n",
       "      <th>32</th>\n",
       "      <td>20766.93</td>\n",
       "      <td>28001.13</td>\n",
       "      <td>7234.20</td>\n",
       "      <td>25.84</td>\n",
       "    </tr>\n",
       "    <tr>\n",
       "      <th>36</th>\n",
       "      <td>3178.50</td>\n",
       "      <td>4582.50</td>\n",
       "      <td>1404.00</td>\n",
       "      <td>30.64</td>\n",
       "    </tr>\n",
       "    <tr>\n",
       "      <th>10</th>\n",
       "      <td>16233.65</td>\n",
       "      <td>23623.56</td>\n",
       "      <td>7389.92</td>\n",
       "      <td>31.28</td>\n",
       "    </tr>\n",
       "    <tr>\n",
       "      <th>13</th>\n",
       "      <td>37165.44</td>\n",
       "      <td>27722.51</td>\n",
       "      <td>-9442.93</td>\n",
       "      <td>34.06</td>\n",
       "    </tr>\n",
       "    <tr>\n",
       "      <th>4</th>\n",
       "      <td>3115.31</td>\n",
       "      <td>2298.47</td>\n",
       "      <td>-816.84</td>\n",
       "      <td>35.54</td>\n",
       "    </tr>\n",
       "    <tr>\n",
       "      <th>8</th>\n",
       "      <td>18820.93</td>\n",
       "      <td>29732.62</td>\n",
       "      <td>10911.69</td>\n",
       "      <td>36.70</td>\n",
       "    </tr>\n",
       "    <tr>\n",
       "      <th>22</th>\n",
       "      <td>3792.59</td>\n",
       "      <td>6374.11</td>\n",
       "      <td>2581.52</td>\n",
       "      <td>40.50</td>\n",
       "    </tr>\n",
       "    <tr>\n",
       "      <th>26</th>\n",
       "      <td>1211.21</td>\n",
       "      <td>2100.65</td>\n",
       "      <td>889.43</td>\n",
       "      <td>42.34</td>\n",
       "    </tr>\n",
       "    <tr>\n",
       "      <th>5</th>\n",
       "      <td>51495.20</td>\n",
       "      <td>35954.16</td>\n",
       "      <td>-15541.04</td>\n",
       "      <td>43.22</td>\n",
       "    </tr>\n",
       "    <tr>\n",
       "      <th>18</th>\n",
       "      <td>19036.06</td>\n",
       "      <td>37797.57</td>\n",
       "      <td>18761.50</td>\n",
       "      <td>49.64</td>\n",
       "    </tr>\n",
       "    <tr>\n",
       "      <th>11</th>\n",
       "      <td>56896.10</td>\n",
       "      <td>37797.57</td>\n",
       "      <td>-19098.54</td>\n",
       "      <td>50.53</td>\n",
       "    </tr>\n",
       "    <tr>\n",
       "      <th>23</th>\n",
       "      <td>3410.34</td>\n",
       "      <td>7186.79</td>\n",
       "      <td>3776.45</td>\n",
       "      <td>52.55</td>\n",
       "    </tr>\n",
       "    <tr>\n",
       "      <th>31</th>\n",
       "      <td>7795.04</td>\n",
       "      <td>16983.54</td>\n",
       "      <td>9188.50</td>\n",
       "      <td>54.10</td>\n",
       "    </tr>\n",
       "    <tr>\n",
       "      <th>34</th>\n",
       "      <td>13506.37</td>\n",
       "      <td>8604.15</td>\n",
       "      <td>-4902.22</td>\n",
       "      <td>56.98</td>\n",
       "    </tr>\n",
       "    <tr>\n",
       "      <th>3</th>\n",
       "      <td>6928.94</td>\n",
       "      <td>17500.77</td>\n",
       "      <td>10571.83</td>\n",
       "      <td>60.41</td>\n",
       "    </tr>\n",
       "    <tr>\n",
       "      <th>27</th>\n",
       "      <td>6947.40</td>\n",
       "      <td>18582.95</td>\n",
       "      <td>11635.55</td>\n",
       "      <td>62.61</td>\n",
       "    </tr>\n",
       "    <tr>\n",
       "      <th>17</th>\n",
       "      <td>9557.83</td>\n",
       "      <td>5377.61</td>\n",
       "      <td>-4180.22</td>\n",
       "      <td>77.73</td>\n",
       "    </tr>\n",
       "    <tr>\n",
       "      <th>19</th>\n",
       "      <td>3628.90</td>\n",
       "      <td>1998.20</td>\n",
       "      <td>-1630.70</td>\n",
       "      <td>81.61</td>\n",
       "    </tr>\n",
       "    <tr>\n",
       "      <th>35</th>\n",
       "      <td>9478.49</td>\n",
       "      <td>5014.05</td>\n",
       "      <td>-4464.43</td>\n",
       "      <td>89.04</td>\n",
       "    </tr>\n",
       "    <tr>\n",
       "      <th>12</th>\n",
       "      <td>1528.16</td>\n",
       "      <td>796.32</td>\n",
       "      <td>-731.84</td>\n",
       "      <td>91.90</td>\n",
       "    </tr>\n",
       "    <tr>\n",
       "      <th>15</th>\n",
       "      <td>10556.52</td>\n",
       "      <td>5377.61</td>\n",
       "      <td>-5178.91</td>\n",
       "      <td>96.30</td>\n",
       "    </tr>\n",
       "    <tr>\n",
       "      <th>16</th>\n",
       "      <td>6843.87</td>\n",
       "      <td>2489.91</td>\n",
       "      <td>-4353.97</td>\n",
       "      <td>174.86</td>\n",
       "    </tr>\n",
       "  </tbody>\n",
       "</table>\n",
       "</div>"
      ],
      "text/plain": [
       "    Prediction   Target  Residual  Difference%\n",
       "6      9575.14  9509.06    -66.08         0.69\n",
       "7      2121.51  2208.35     86.83         3.93\n",
       "29    29574.15 30946.03   1371.88         4.43\n",
       "2     13626.01 14328.42    702.41         4.90\n",
       "9      2099.16  2208.35    109.19         4.94\n",
       "28    26293.92 27722.51   1428.59         5.15\n",
       "1     17492.53 18958.35   1465.82         7.73\n",
       "25     1168.44  1299.84    131.41        10.11\n",
       "38    25562.90 28853.89   3290.99        11.41\n",
       "24    19287.60 22026.47   2738.87        12.43\n",
       "21     8769.56  7785.36   -984.20        12.64\n",
       "0     14224.05 12332.58  -1891.47        15.34\n",
       "14     3065.69  2591.52   -474.17        18.30\n",
       "30     2441.41  3010.92    569.51        18.91\n",
       "33    10142.56 12835.88   2693.33        20.98\n",
       "20    21813.69 17676.65  -4137.03        23.40\n",
       "37    16044.44 21590.31   5545.87        25.69\n",
       "32    20766.93 28001.13   7234.20        25.84\n",
       "36     3178.50  4582.50   1404.00        30.64\n",
       "10    16233.65 23623.56   7389.92        31.28\n",
       "13    37165.44 27722.51  -9442.93        34.06\n",
       "4      3115.31  2298.47   -816.84        35.54\n",
       "8     18820.93 29732.62  10911.69        36.70\n",
       "22     3792.59  6374.11   2581.52        40.50\n",
       "26     1211.21  2100.65    889.43        42.34\n",
       "5     51495.20 35954.16 -15541.04        43.22\n",
       "18    19036.06 37797.57  18761.50        49.64\n",
       "11    56896.10 37797.57 -19098.54        50.53\n",
       "23     3410.34  7186.79   3776.45        52.55\n",
       "31     7795.04 16983.54   9188.50        54.10\n",
       "34    13506.37  8604.15  -4902.22        56.98\n",
       "3      6928.94 17500.77  10571.83        60.41\n",
       "27     6947.40 18582.95  11635.55        62.61\n",
       "17     9557.83  5377.61  -4180.22        77.73\n",
       "19     3628.90  1998.20  -1630.70        81.61\n",
       "35     9478.49  5014.05  -4464.43        89.04\n",
       "12     1528.16   796.32   -731.84        91.90\n",
       "15    10556.52  5377.61  -5178.91        96.30\n",
       "16     6843.87  2489.91  -4353.97       174.86"
      ]
     },
     "execution_count": 40,
     "metadata": {},
     "output_type": "execute_result"
    }
   ],
   "source": [
    "#Displaying the targets and predictions from the most accurate ones to the least accurate value.\n",
    "pd.options.display.max_rows = 200\n",
    "pd.set_option('display.float_format', lambda x: '%.2f' % x)\n",
    "df_pf.sort_values(by=['Difference%'])"
   ]
  },
  {
   "cell_type": "code",
   "execution_count": null,
   "id": "75b6bb00",
   "metadata": {},
   "outputs": [],
   "source": []
  }
 ],
 "metadata": {
  "kernelspec": {
   "display_name": "Python 3",
   "language": "python",
   "name": "python3"
  },
  "language_info": {
   "codemirror_mode": {
    "name": "ipython",
    "version": 3
   },
   "file_extension": ".py",
   "mimetype": "text/x-python",
   "name": "python",
   "nbconvert_exporter": "python",
   "pygments_lexer": "ipython3",
   "version": "3.8.8"
  }
 },
 "nbformat": 4,
 "nbformat_minor": 5
}
